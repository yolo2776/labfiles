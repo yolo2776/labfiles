{
 "cells": [
  {
   "cell_type": "markdown",
   "metadata": {},
   "source": [
    "# CSV saving and reading, Timeline, Wordcloud, statistical Analysis"
   ]
  },
  {
   "cell_type": "markdown",
   "metadata": {},
   "source": [
    "### A twitter object in JSON format\n",
    "\n",
    "#### You can try Copy pasting the json tweet in a json viewer\n",
    "#### Link to json viewer http://jsonviewer.stack.hu/\n",
    "\n",
    "`{\n",
    "  \"contributors\": null,\n",
    "  \"truncated\": false,\n",
    "  \"text\": \"RT @upadhyaysbjp: लोकतंत्र के सबसे बड़े उत्सव का आगाज। आइये हम सब मिलकर लोकतंत्र को मजबूत करें और इस महा उत्सव में हिस्सा लें। #elections20…\",\n",
    "  \"is_quote_status\": false,\n",
    "  \"in_reply_to_status_id\": null,\n",
    "  \"id\": 1105314595365781500,\n",
    "  \"favorite_count\": 0,\n",
    "  \"entities\": {\n",
    "    \"symbols\": [],\n",
    "    \"user_mentions\": [\n",
    "      {\n",
    "        \"id\": 537465783,\n",
    "        \"indices\": [\n",
    "          3,\n",
    "          16\n",
    "        ],\n",
    "        \"id_str\": \"537465783\",\n",
    "        \"screen_name\": \"upadhyaysbjp\",\n",
    "        \"name\": \"Satish Upadhyay\"\n",
    "      }\n",
    "    ],\n",
    "    \"hashtags\": [],\n",
    "    \"urls\": []\n",
    "  },\n",
    "  \"retweeted\": false,\n",
    "  \"coordinates\": null,\n",
    "  \"source\": \"<a href=\\\"http://twitter.com\\\" rel=\\\"nofollow\\\">Twitter Web Client</a>\",\n",
    "  \"in_reply_to_screen_name\": null,\n",
    "  \"in_reply_to_user_id\": null,\n",
    "  \"retweet_count\": 116,\n",
    "  \"id_str\": \"1105314595365781504\",\n",
    "  \"favorited\": false,\n",
    "  \"retweeted_status\": {\n",
    "    \"contributors\": null,\n",
    "    \"truncated\": false,\n",
    "    \"text\": \"लोकतंत्र के सबसे बड़े उत्सव का आगाज। आइये हम सब मिलकर लोकतंत्र को मजबूत करें और इस महा उत्सव में हिस्सा लें। #elections2019\",\n",
    "    \"is_quote_status\": false,\n",
    "    \"in_reply_to_status_id\": null,\n",
    "    \"id\": 1104758276166697000,\n",
    "    \"favorite_count\": 332,\n",
    "    \"entities\": {\n",
    "      \"symbols\": [],\n",
    "      \"user_mentions\": [],\n",
    "      \"hashtags\": [\n",
    "        {\n",
    "          \"indices\": [\n",
    "            109,\n",
    "            123\n",
    "          ],\n",
    "          \"text\": \"elections2019\"\n",
    "        }\n",
    "      ],\n",
    "      \"urls\": []\n",
    "    },\n",
    "    \"retweeted\": false,\n",
    "    \"coordinates\": null,\n",
    "    \"source\": \"<a href=\\\"http://twitter.com/download/android\\\" rel=\\\"nofollow\\\">Twitter for Android</a>\",\n",
    "    \"in_reply_to_screen_name\": null,\n",
    "    \"in_reply_to_user_id\": null,\n",
    "    \"retweet_count\": 116,\n",
    "    \"id_str\": \"1104758276166696962\",\n",
    "    \"favorited\": false,\n",
    "    \"user\": {\n",
    "      \"follow_request_sent\": false,\n",
    "      \"has_extended_profile\": false,\n",
    "      \"profile_use_background_image\": true,\n",
    "      \"default_profile_image\": false,\n",
    "      \"id\": 537465783,\n",
    "      \"profile_background_image_url_https\": \"https://abs.twimg.com/images/themes/theme13/bg.gif\",\n",
    "      \"verified\": true,\n",
    "      \"translator_type\": \"none\",\n",
    "      \"profile_text_color\": \"333333\",\n",
    "      \"profile_image_url_https\": \"https://pbs.twimg.com/profile_images/730078714076250112/QPP9syC__normal.jpg\",\n",
    "      \"profile_sidebar_fill_color\": \"FFFFFF\",\n",
    "      \"entities\": {\n",
    "        \"url\": {\n",
    "          \"urls\": [\n",
    "            {\n",
    "              \"url\": \"https://t.co/qfsgZIIY3T\",\n",
    "              \"indices\": [\n",
    "                0,\n",
    "                23\n",
    "              ],\n",
    "              \"expanded_url\": \"https://www.facebook.com/satishupadhyaybjp/\",\n",
    "              \"display_url\": \"facebook.com/satishupadhyay…\"\n",
    "            }\n",
    "          ]\n",
    "        },\n",
    "        \"description\": {\n",
    "          \"urls\": []\n",
    "        }\n",
    "      },\n",
    "      \"followers_count\": 99237,\n",
    "      \"profile_sidebar_border_color\": \"FFFFFF\",\n",
    "      \"id_str\": \"537465783\",\n",
    "      \"profile_background_color\": \"B2DFDA\",\n",
    "      \"listed_count\": 176,\n",
    "      \"is_translation_enabled\": false,\n",
    "      \"utc_offset\": null,\n",
    "      \"statuses_count\": 6015,\n",
    "      \"description\": \"|| Nationalist || @BJP4India Karyakarta || Ex-President @BJP4Delhi ||\",\n",
    "      \"friends_count\": 929,\n",
    "      \"location\": \"New Delhi, India\",\n",
    "      \"profile_link_color\": \"F02C09\",\n",
    "      \"profile_image_url\": \"http://pbs.twimg.com/profile_images/730078714076250112/QPP9syC__normal.jpg\",\n",
    "      \"following\": false,\n",
    "      \"geo_enabled\": false,\n",
    "      \"profile_banner_url\": \"https://pbs.twimg.com/profile_banners/537465783/1465587985\",\n",
    "      \"profile_background_image_url\": \"http://abs.twimg.com/images/themes/theme13/bg.gif\",\n",
    "      \"screen_name\": \"upadhyaysbjp\",\n",
    "      \"lang\": \"en\",\n",
    "      \"profile_background_tile\": false,\n",
    "      \"favourites_count\": 13212,\n",
    "      \"name\": \"Satish Upadhyay\",\n",
    "      \"notifications\": false,\n",
    "      \"url\": \"https://t.co/qfsgZIIY3T\",\n",
    "      \"created_at\": \"Mon Mar 26 17:00:57 +0000 2012\",\n",
    "      \"contributors_enabled\": false,\n",
    "      \"time_zone\": null,\n",
    "      \"protected\": false,\n",
    "      \"default_profile\": false,\n",
    "      \"is_translator\": false\n",
    "    },\n",
    "    \"geo\": null,\n",
    "    \"in_reply_to_user_id_str\": null,\n",
    "    \"lang\": \"hi\",\n",
    "    \"created_at\": \"Sun Mar 10 14:57:53 +0000 2019\",\n",
    "    \"in_reply_to_status_id_str\": null,\n",
    "    \"place\": null,\n",
    "    \"metadata\": {\n",
    "      \"iso_language_code\": \"hi\",\n",
    "      \"result_type\": \"recent\"\n",
    "    }\n",
    "  },\n",
    "  \"user\": {\n",
    "    \"follow_request_sent\": false,\n",
    "    \"has_extended_profile\": false,\n",
    "    \"profile_use_background_image\": true,\n",
    "    \"default_profile_image\": true,\n",
    "    \"id\": 1093053923227664400,\n",
    "    \"profile_background_image_url_https\": null,\n",
    "    \"verified\": false,\n",
    "    \"translator_type\": \"none\",\n",
    "    \"profile_text_color\": \"333333\",\n",
    "    \"profile_image_url_https\": \"https://abs.twimg.com/sticky/default_profile_images/default_profile_normal.png\",\n",
    "    \"profile_sidebar_fill_color\": \"DDEEF6\",\n",
    "    \"entities\": {\n",
    "      \"description\": {\n",
    "        \"urls\": []\n",
    "      }\n",
    "    },\n",
    "    \"followers_count\": 8,\n",
    "    \"profile_sidebar_border_color\": \"C0DEED\",\n",
    "    \"id_str\": \"1093053923227664384\",\n",
    "    \"profile_background_color\": \"F5F8FA\",\n",
    "    \"listed_count\": 0,\n",
    "    \"is_translation_enabled\": false,\n",
    "    \"utc_offset\": null,\n",
    "    \"statuses_count\": 165,\n",
    "    \"description\": \"\",\n",
    "    \"friends_count\": 24,\n",
    "    \"location\": \"\",\n",
    "    \"profile_link_color\": \"1DA1F2\",\n",
    "    \"profile_image_url\": \"http://abs.twimg.com/sticky/default_profile_images/default_profile_normal.png\",\n",
    "    \"following\": false,\n",
    "    \"geo_enabled\": false,\n",
    "    \"profile_background_image_url\": null,\n",
    "    \"screen_name\": \"MeghaSi05447405\",\n",
    "    \"lang\": \"en\",\n",
    "    \"profile_background_tile\": false,\n",
    "    \"favourites_count\": 166,\n",
    "    \"name\": \"Megha Singh\",\n",
    "    \"notifications\": false,\n",
    "    \"url\": null,\n",
    "    \"created_at\": \"Wed Feb 06 07:48:58 +0000 2019\",\n",
    "    \"contributors_enabled\": false,\n",
    "    \"time_zone\": null,\n",
    "    \"protected\": false,\n",
    "    \"default_profile\": true,\n",
    "    \"is_translator\": false\n",
    "  },\n",
    "  \"geo\": null,\n",
    "  \"in_reply_to_user_id_str\": null,\n",
    "  \"lang\": \"hi\",\n",
    "  \"created_at\": \"Tue Mar 12 03:48:29 +0000 2019\",\n",
    "  \"in_reply_to_status_id_str\": null,\n",
    "  \"place\": null,\n",
    "  \"metadata\": {\n",
    "    \"iso_language_code\": \"hi\",\n",
    "    \"result_type\": \"recent\"\n",
    "  }\n",
    "}`"
   ]
  },
  {
   "cell_type": "markdown",
   "metadata": {},
   "source": [
    "## Getting tweets for a topic and saving to csv file"
   ]
  },
  {
   "cell_type": "code",
   "execution_count": null,
   "metadata": {},
   "outputs": [],
   "source": [
    "cskey = \"Replace with your API KEY\"\n",
    "cssecret = \"Replace with your API KEY\"\n",
    "tokenkey = \"Replace with your API KEY\"\n",
    "tokensec = \"Replace with your API KEY\"\n",
    "\n",
    "from pprint import pprint\n",
    "import tweepy\n",
    "import json\n",
    "import numpy as np\n",
    "import matplotlib.pyplot as plt\n",
    "\n",
    "\n",
    "#for getting Stream of Data\n",
    "from tweepy import Stream\n",
    "from tweepy.streaming import StreamListener\n",
    "auth = tweepy.OAuthHandler(cskey,cssecret)\n",
    "# Access Token, Access Token Secret\n",
    "auth.set_access_token(tokenkey,tokensec)\n",
    "\n",
    "try:\n",
    "    redirect_url = auth.get_authorization_url()\n",
    "    print('It Worked! Congrats You are ready for the next step.')\n",
    "except tweepy.TweepError:\n",
    "    print('Error! Failed to get request token. Please Check your API Keys')\n",
    "\n",
    "api = tweepy.API(auth)"
   ]
  },
  {
   "cell_type": "code",
   "execution_count": null,
   "metadata": {},
   "outputs": [],
   "source": [
    "topic = \"india\" #Search topic, feel free to edit this\n",
    "data_count = 100 #number of posts to fetch.\n",
    "tweet_list = []\n",
    "count = 0\n",
    " \n",
    "for tweet in tweepy.Cursor(api.search,q=topic,count=data_count).items():\n",
    "    #get jsons from tweet object\n",
    "    tweet_json = json.loads(json.dumps(tweet._json))\n",
    "    \n",
    "\n",
    "    #tweet_list.append(tweet_json)\n",
    "    tweet_dict = {}\n",
    "    \n",
    "    tweet_dict[\"tweet_id\"] = tweet_json[\"id\"]\n",
    "    tweet_dict[\"is_verified\"] = tweet_json[\"user\"][\"verified\"]\n",
    "    tweet_dict[\"username\"] =  tweet_json[\"user\"][\"screen_name\"]\n",
    "    tweet_dict[\"name\"] =  tweet_json[\"user\"][\"name\"]\n",
    "    tweet_dict[\"bio\"] = tweet_json[\"user\"][\"description\"]\n",
    "    tweet_dict[\"img_url\"] =  tweet_json[\"user\"][\"profile_image_url\"]\n",
    "    tweet_dict[\"user_location\"] = tweet_json[\"user\"][\"location\"]\n",
    "    tweet_dict[\"followers\"] =  tweet_json[\"user\"][\"followers_count\"]\n",
    "    tweet_dict[\"following\"] =   tweet_json[\"user\"][\"following\"]\n",
    "    tweet_dict[\"text\"] = tweet_json[\"text\"]\n",
    "    tweet_dict[\"source\"] = tweet_json[\"source\"]\n",
    "    tweet_dict[\"time\"] = tweet_json[\"created_at\"]\n",
    "    tweet_dict[\"retweet_count\"] = tweet_json[\"retweet_count\"]\n",
    "    \n",
    "    pprint(tweet_dict)\n",
    "    \n",
    "    #add tweet_dict to tweet_list = []\n",
    "    tweet_list.append(tweet_dict)\n",
    "    \n",
    "    # counter for loop\n",
    "    count += 1\n",
    "    if count >=data_count:\n",
    "        break"
   ]
  },
  {
   "cell_type": "code",
   "execution_count": null,
   "metadata": {},
   "outputs": [],
   "source": [
    "# Number of tweets collected\n",
    "\n",
    "print(len(tweet_list))"
   ]
  },
  {
   "cell_type": "markdown",
   "metadata": {},
   "source": [
    "### Lets see the collected data"
   ]
  },
  {
   "cell_type": "code",
   "execution_count": null,
   "metadata": {},
   "outputs": [],
   "source": [
    "#lets see the data\n",
    "\n",
    "import pandas as pd\n",
    "tweets_dataframe = pd.DataFrame(tweet_list)\n",
    "tweets_dataframe.head()"
   ]
  },
  {
   "cell_type": "markdown",
   "metadata": {},
   "source": [
    "### Saving our data in CSV form"
   ]
  },
  {
   "cell_type": "code",
   "execution_count": null,
   "metadata": {},
   "outputs": [],
   "source": [
    "tweets_dataframe.to_csv(str(topic)+\".csv\")"
   ]
  },
  {
   "cell_type": "markdown",
   "metadata": {},
   "source": [
    "### Loading data from CSV file"
   ]
  },
  {
   "cell_type": "code",
   "execution_count": null,
   "metadata": {},
   "outputs": [],
   "source": [
    "tweets_df = pd.read_csv(\"India.csv\")\n",
    "\n",
    "tweets_df.head()"
   ]
  },
  {
   "cell_type": "markdown",
   "metadata": {},
   "source": [
    "### Time to Make clouds.....with words"
   ]
  },
  {
   "cell_type": "markdown",
   "metadata": {},
   "source": [
    "<img src=\"https://i4w8j7y6.stackpathcdn.com/wp-content/uploads/2018/09/cloud-article.jpg\" >"
   ]
  },
  {
   "cell_type": "code",
   "execution_count": null,
   "metadata": {},
   "outputs": [],
   "source": [
    "from wordcloud import WordCloud, STOPWORDS\n",
    "\n",
    "\n",
    "\n",
    "def make_word_cloud(tweet_text, stopwords):        \n",
    "    # Generate a word cloud image\n",
    "    wordcloud = WordCloud(background_color=\"white\",stopwords=stopwords).generate(tweet_text)\n",
    "\n",
    "    # Display the generated image:\n",
    "    plt.imshow(wordcloud, interpolation='bilinear')\n",
    "    plt.show()\n",
    "\n",
    "tweets_text = tweets_df[\"text\"].astype(str)\n",
    "tweets_joined = tweets_text.str.cat(sep=' ')\n",
    "\n",
    "#appyling Basic stopwords\n",
    "stopwords = set(STOPWORDS)\n",
    "stopwords.add('https')\n",
    "\n",
    "#calling function to get wordcloud\n",
    "make_word_cloud(tweets_joined, stopwords)"
   ]
  },
  {
   "cell_type": "markdown",
   "metadata": {},
   "source": [
    "# Stopwords can help\n",
    "\n",
    "Stop words can be added to remove non-relevant words from the text\n",
    "\n",
    "#### To Try: Add stop word for \"RT\" which means Retweet."
   ]
  },
  {
   "cell_type": "code",
   "execution_count": null,
   "metadata": {},
   "outputs": [],
   "source": [
    "#Code for adding a stopword look like:\n",
    "#stopwords.add('stopword here')\n",
    "\n",
    "#ADD your stopwords below this line\n"
   ]
  },
  {
   "cell_type": "markdown",
   "metadata": {},
   "source": [
    "#### Ok, Now that you have added a new stop word, try regenerating the wordcloud"
   ]
  },
  {
   "cell_type": "code",
   "execution_count": null,
   "metadata": {},
   "outputs": [],
   "source": [
    "#execute this cell to regenerate the wordcloud\n",
    "make_word_cloud(tweets_joined, stopwords)\n"
   ]
  },
  {
   "cell_type": "markdown",
   "metadata": {},
   "source": [
    "## Let's find the Most followed users from our tweets"
   ]
  },
  {
   "cell_type": "code",
   "execution_count": null,
   "metadata": {},
   "outputs": [],
   "source": [
    "followers_count_dictionary = {}\n",
    "\n",
    "for row in tweets_dataframe.iterrows():\n",
    "    username = row[1][12]\n",
    "    follower_count = row[1][1]\n",
    "    \n",
    "    if username in followers_count_dictionary:\n",
    "        continue\n",
    "    else:\n",
    "        followers_count_dictionary[username] = follower_count"
   ]
  },
  {
   "cell_type": "code",
   "execution_count": null,
   "metadata": {},
   "outputs": [],
   "source": [
    "followers_count_dictionary"
   ]
  },
  {
   "cell_type": "code",
   "execution_count": null,
   "metadata": {},
   "outputs": [],
   "source": [
    "#Displaying Top 25 users in terms of followers  \n",
    "sorted_follower_list = sorted( ((v,k) for k,v in followers_count_dictionary.items()), reverse=True)\n",
    "sorted_follower_list = sorted_follower_list[1:25]\n",
    "sorted_follower_list"
   ]
  },
  {
   "cell_type": "code",
   "execution_count": null,
   "metadata": {},
   "outputs": [],
   "source": [
    "y = [count for count,label in sorted_follower_list]\n",
    "x_labels = [label for count,label in sorted_follower_list]\n",
    "\n",
    "plt.bar(range(len(y)), list(y), align='center');\n",
    "plt.xticks(range(len(x_labels)), list(x_labels), rotation='vertical');\n",
    "plt.title('Top followed users');"
   ]
  },
  {
   "cell_type": "markdown",
   "metadata": {},
   "source": [
    "### Timeline Analysis (when)"
   ]
  },
  {
   "cell_type": "code",
   "execution_count": null,
   "metadata": {},
   "outputs": [],
   "source": [
    "# Lets get tweet times in a List\n",
    "tweets_time_list = tweets_dataframe[\"time\"]"
   ]
  },
  {
   "cell_type": "code",
   "execution_count": null,
   "metadata": {},
   "outputs": [],
   "source": [
    "# Lets see the first element of the list\n",
    "tweets_time_list[0]"
   ]
  },
  {
   "cell_type": "code",
   "execution_count": null,
   "metadata": {},
   "outputs": [],
   "source": [
    "len(tweets_time_list)"
   ]
  },
  {
   "cell_type": "code",
   "execution_count": null,
   "metadata": {},
   "outputs": [],
   "source": [
    "time_dict = {}\n",
    "\n",
    "for tweet_time in tweets_time_list:\n",
    "    if tweet_time in time_dict:\n",
    "        time_dict[tweet_time] += 1\n",
    "    else:\n",
    "        time_dict[tweet_time] = 0\n",
    "        \n",
    "pprint(time_dict)"
   ]
  },
  {
   "cell_type": "markdown",
   "metadata": {},
   "source": [
    "### Plotting the actual graph using matplotlib"
   ]
  },
  {
   "cell_type": "code",
   "execution_count": null,
   "metadata": {},
   "outputs": [],
   "source": [
    "plt.bar(range(len(time_dict)), list(time_dict.values()), align='center');\n",
    "plt.xticks(range(len(time_dict)), list(time_dict.keys()), rotation='vertical');\n",
    "plt.title('Timeline Plot');"
   ]
  },
  {
   "cell_type": "markdown",
   "metadata": {},
   "source": [
    "### Source/Device Count"
   ]
  },
  {
   "cell_type": "code",
   "execution_count": null,
   "metadata": {},
   "outputs": [],
   "source": [
    "from collections import Counter, OrderedDict\n",
    "\n",
    "def get_device_counts(tweet_list):\n",
    "    '''\n",
    "    Returns the 5 most common devices used to post a tweet\n",
    "    '''\n",
    "    tweet_device = Counter()\n",
    "    for tweet in tweet_list:\n",
    "        tweet_device[tweet['source']] += 1\n",
    "    tweet_device = tweet_device.most_common(5)\n",
    "    return tweet_device\n",
    "\n",
    "device_counter = get_device_counts(tweet_list)"
   ]
  },
  {
   "cell_type": "code",
   "execution_count": null,
   "metadata": {},
   "outputs": [],
   "source": [
    "import re  # This is the library used for pattern matching\n",
    "\n",
    "def remove_html_tags(text):\n",
    "    clean = re.compile('<.*?>')\n",
    "    return re.sub(clean, '', text)"
   ]
  },
  {
   "cell_type": "code",
   "execution_count": null,
   "metadata": {},
   "outputs": [],
   "source": [
    "def plot_pie_chart(labels, counts, explode=None):\n",
    "    fig1, ax1 = plt.subplots()\n",
    "    ax1.pie(counts, explode=explode, labels=labels, \n",
    "            autopct='%1.1f%%', startangle=90, shadow=True, \n",
    "            wedgeprops=dict(width=0.2))\n",
    "    ax1.axis('equal')  # Equal aspect ratio ensures that pie is drawn as a circle.\n",
    "    plt.title('Tweet percentage by the device source', y=1.05)\n",
    "    plt.show()"
   ]
  },
  {
   "cell_type": "code",
   "execution_count": null,
   "metadata": {},
   "outputs": [],
   "source": [
    "device_labels = []\n",
    "device_counts = []\n",
    "\n",
    "for tup in device_counter:\n",
    "    device_labels.append(remove_html_tags(tup[0]))\n",
    "    device_counts.append(tup[1])"
   ]
  },
  {
   "cell_type": "code",
   "execution_count": null,
   "metadata": {},
   "outputs": [],
   "source": [
    "device_explode = [0 for label in device_counter]\n",
    "device_explode[len(device_explode)-1] = 0.1\n",
    "\n",
    "plot_pie_chart(device_labels, device_counts, device_explode)"
   ]
  },
  {
   "cell_type": "markdown",
   "metadata": {},
   "source": [
    "<img src=\"https://i.kinja-img.com/gawker-media/image/upload/s--tsxPnzYD--/c_scale,f_auto,fl_progressive,q_80,w_800/18qp8sddge00ijpg.jpg\" >"
   ]
  },
  {
   "cell_type": "markdown",
   "metadata": {},
   "source": [
    "## The End"
   ]
  }
 ],
 "metadata": {
  "kernelspec": {
   "display_name": "Python 3",
   "language": "python",
   "name": "python3"
  },
  "language_info": {
   "codemirror_mode": {
    "name": "ipython",
    "version": 3
   },
   "file_extension": ".py",
   "mimetype": "text/x-python",
   "name": "python",
   "nbconvert_exporter": "python",
   "pygments_lexer": "ipython3",
   "version": "3.7.1"
  }
 },
 "nbformat": 4,
 "nbformat_minor": 2
}
